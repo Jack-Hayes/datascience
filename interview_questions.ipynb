{
  "nbformat": 4,
  "nbformat_minor": 0,
  "metadata": {
    "colab": {
      "name": "github_interview_qs.ipynb",
      "provenance": [],
      "collapsed_sections": [],
      "authorship_tag": "ABX9TyMydvhyKXTqrQPHQHWng8Qm",
      "include_colab_link": true
    },
    "kernelspec": {
      "name": "python3",
      "display_name": "Python 3"
    },
    "language_info": {
      "name": "python"
    }
  },
  "cells": [
    {
      "cell_type": "markdown",
      "metadata": {
        "id": "view-in-github",
        "colab_type": "text"
      },
      "source": [
        "<a href=\"https://colab.research.google.com/github/Jack-Hayes/datascience/blob/main/interview_questions.ipynb\" target=\"_parent\"><img src=\"https://colab.research.google.com/assets/colab-badge.svg\" alt=\"Open In Colab\"/></a>"
      ]
    },
    {
      "cell_type": "code",
      "execution_count": null,
      "metadata": {
        "id": "jHKvPkhuP6D-"
      },
      "outputs": [],
      "source": [
        "import random\n",
        "import numpy as np\n",
        "import matplotlib.pyplot as plt\n",
        "import warnings\n",
        "warnings.simplefilter(action='ignore', category=FutureWarning)\n",
        "from scipy.stats import beta"
      ]
    },
    {
      "cell_type": "markdown",
      "source": [
        "##Problem 1\n",
        "You're about to get on a plane to Boston. You want to know whether it is raining. You call 4 random friends of yours who live there and ask each one independently, if it's raining. The first two of your friends have a 1/2 chance of telling you the truth and, the other two have 1/4 chance of messing with you by lying. All 4 friends tell you that \"No\" it isn't raining. What is the probability that it's raining in Boston?"
      ],
      "metadata": {
        "id": "ysrZXQXGQcyG"
      }
    },
    {
      "cell_type": "markdown",
      "source": [
        "###My answer explained:\n",
        "To start out, I created two 'answer' lists, 'answer_a' containing one 'truth' and one 'lie' since the probabilities of the first two friends telling the truth are both 1/2. The list 'answer_b' contained three 'truth's and one 'lie' since the third and fourth friend have a 1/4 chance of lying. 'answer_a' is then randomly shuffled and the first item of the list is selected to represent the truth value of the first friend's answer, and this process was then repeated for the second friend. For the third and fourth friend, the same process was repeated except with 'answer_b' instead of 'answer_a'.\n",
        "\n",
        "Once the truth values of all three friends are produced (f1, f2, f3, f4), an if statement is used to determine whether or not at least one of the friends is lying, as I am assuming that if one friend is lying, then it is actually raining in Boston. If one of the friends is in fact lying, then a value of 1 is added to an object named 'rain', but if all three friends are telling the truth, then a value of 1 is added to an object named 'no_rain'.\n",
        "\n",
        "This simulation is run n (1000000) times in the 'for loop' with values of 'rain' and 'no_rain' both being 0 before the loop is run. The probabilities for it actually raining in Boston and it not raining in Boston were then calculated by dividing 'rain'/n and 'no_rain'/n respectively.\n",
        "\n",
        "After running the code a few times I have come to the conclusion that P(rain) is typically around 0.86 and P(no_rain) is typically around 0.14."
      ],
      "metadata": {
        "id": "lZ1hwIMzSh8N"
      }
    },
    {
      "cell_type": "code",
      "source": [
        "n = 1000000\n",
        "rain = 0\n",
        "no_rain = 0\n",
        "\n",
        "for i in range(n):\n",
        "  answer_a = ['lie', 'truth']\n",
        "  answer_b = ['lie', 'truth', 'truth', 'truth']\n",
        "  random.shuffle(answer_a)\n",
        "  f1 = answer_a[0]\n",
        "  random.shuffle(answer_a)\n",
        "  f2 = answer_a[0]\n",
        "  random.shuffle(answer_b)\n",
        "  f3 = answer_b[0]\n",
        "  random.shuffle(answer_b)\n",
        "  f4 = answer_b[0]\n",
        "  if f1 == 'lie' or f2 == 'lie' or f3 == 'lie' or f4 == 'lie':\n",
        "    rain += 1\n",
        "  else:\n",
        "    no_rain += 1\n",
        "\n",
        "print('The probability that it is actually raining in Boston is: ', (rain/n))\n",
        "print('The probability that it is not raining in Boston is: ', (no_rain/n))"
      ],
      "metadata": {
        "colab": {
          "base_uri": "https://localhost:8080/"
        },
        "id": "Jig4LO1HQmnc",
        "outputId": "1aa552a2-1871-424d-c0d5-fc211a99b734"
      },
      "execution_count": null,
      "outputs": [
        {
          "output_type": "stream",
          "name": "stdout",
          "text": [
            "The probability that it is actually raining in Boston is:  0.859427\n",
            "The probability that it is not raining in Boston is:  0.140573\n"
          ]
        }
      ]
    },
    {
      "cell_type": "markdown",
      "source": [
        "##Problem 2\n",
        "Mad Max wants to travel from New York to Dallas by the shortest possible route. He may travel over the routes shown in the table below. Unfortunately, the Wicked Witch can block one road leading out of Atlanta and one road leading out of Nashville. Mad Max will not know which roads have been blocked until he arrives at Atlanta or Nashville. Should Mad Max start toward Atlanta or Nashville?\n",
        "\n",
        "Route\tLength of Route (miles)\n",
        "\n",
        "New York - Atlanta\t866\n",
        "\n",
        "New York - Nashville\t900\n",
        "\n",
        "Nashville - St. Louis\t309\n",
        "\n",
        "Nashville - New Orleans\t532\n",
        "\n",
        "Atlanta - St. Louis\t555\n",
        "\n",
        "Atlanta - New Orleans\t470\n",
        "\n",
        "St. Louis - Dallas\t662\n",
        "\n",
        "New Orleans - Dallas\t505"
      ],
      "metadata": {
        "id": "1HSrMSSmQF1q"
      }
    },
    {
      "cell_type": "markdown",
      "source": [
        "###My answer explained:\n",
        "Starting out, I decided to calculate the total distance it would take Mad Max to travel each of the gour possible routes. There are two routes he can take leaving out of Nashville, and two routes he could take leading out of Atlanta. These distances were calculated by summing the miles from NY-NVL-STL-DAL, NY-NVL-NOLA-DAL, NY-ATL-STL-DAL, and NY-ATL-NOLA-DAL. The list 'total_nvl' represents the total distances of the two possible trips Mad Max can take from NY-DAL when he chooses to head towards Nashville from New York. The list 'total_atl' represents the total distances of the two possible trips Mad Max can take from NY-DAL when he chooses to head towards Atlanta from New York.\n",
        "\n",
        "'q' represents the random choice of whether or not Max decides to head towrds either Nashville or Atlanta when he departs from New York, as he does not know which roads will be blocked before he reaches either of these two cities. If 'q' == 0, Max will head towards Nashville, if 'q' == 1, Max will head towards Atlanta. 'c' represents the random road that will be blocked when Max leaves from either Nashville or Atlanta. After Max arrives in either Nashville or Atlanta, one of the routes from the two possible routes he can take will be removed, and the total trip distance of the remaining route will be appended to an empty list (either 'atl_trips' if Max went from NY-ATL, or 'nvl_trips' if Max went from NY-NVL).\n",
        "\n",
        "This process was repeated n = 1000000 times through a for loop. After the loop, the mean of the distances in 'atl_trips' and 'nvl_trips' were taken to see the average distance it would take Max if he started towards Atlanta or Nashville respectively.\n",
        "\n",
        "This code revealed that Mad Max should start his trip towards Atlanta, as the mean total trip distance when he starts towards Atlanta is less than when he starts towards Nashville."
      ],
      "metadata": {
        "id": "FDefW502Uyyb"
      }
    },
    {
      "cell_type": "code",
      "source": [
        "n = 1000000\n",
        "atl_trips = []\n",
        "nvl_trips = []\n",
        "\n",
        "for i in range(n):\n",
        "  q = np.random.randint(2)\n",
        "  c = np.random.randint(2)\n",
        "  total_nvl = [1871, 1432]\n",
        "  total_atl = [1421, 1778]\n",
        "  if q == 0:\n",
        "    total_nvl.pop(c)\n",
        "    nvl_trips.append(total_nvl[0])\n",
        "  else:\n",
        "    total_atl.pop(c)\n",
        "    atl_trips.append(total_atl[0])\n",
        "\n",
        "print('The mean distance of leaving from Nashville is: ', np.mean(nvl_trips))\n",
        "print('The mean distance of leaving from Atlanta is: ', np.mean(atl_trips))"
      ],
      "metadata": {
        "colab": {
          "base_uri": "https://localhost:8080/"
        },
        "id": "y9609cBOQG13",
        "outputId": "3f5022a9-93a5-4b1f-9864-9d3bf1f75809"
      },
      "execution_count": null,
      "outputs": [
        {
          "output_type": "stream",
          "name": "stdout",
          "text": [
            "The mean distance of leaving from Nashville is:  1651.625521866402\n",
            "The mean distance of leaving from Atlanta is:  1599.2821742366045\n"
          ]
        }
      ]
    }
  ]
}